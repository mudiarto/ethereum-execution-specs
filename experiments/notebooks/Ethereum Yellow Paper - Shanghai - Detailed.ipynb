{
 "cells": [
  {
   "cell_type": "markdown",
   "id": "b3042054-957b-4aec-b0a9-5e4bae2b29f2",
   "metadata": {
    "editable": true,
    "slideshow": {
     "slide_type": "slide"
    },
    "tags": []
   },
   "source": [
    "# <center>Ethereum Yellow Paper</center>\n",
    "<center>Summary/Code for Shanghai version</center>"
   ]
  },
  {
   "cell_type": "markdown",
   "id": "7db32fb7-6452-4231-bb4e-a5aee361c5e9",
   "metadata": {
    "editable": true,
    "slideshow": {
     "slide_type": "subslide"
    },
    "tags": []
   },
   "source": [
    "### References:\n",
    "\n",
    "* [Ethereum Yellow Paper - Shanghai Version](https://github.com/ethereum/yellowpaper/tree/f3553dd559f574f061037718512444abc53bbd40)\n",
    "* [Ethereum Execution Spec](https://github.com/ethereum/execution-specs/tree/1adcc1bfe774798bcacc685aebc17bd9935078c3)"
   ]
  },
  {
   "cell_type": "markdown",
   "id": "ef5ed4c1-eea8-44d3-81e3-d42d7c0b0ebb",
   "metadata": {
    "editable": true,
    "slideshow": {
     "slide_type": "slide"
    },
    "tags": []
   },
   "source": [
    "## 1. Introduction"
   ]
  },
  {
   "cell_type": "markdown",
   "id": "1fa093fd-8e64-4c39-ad45-bf24b12560df",
   "metadata": {
    "editable": true,
    "slideshow": {
     "slide_type": "subslide"
    },
    "tags": []
   },
   "source": [
    "### Bitcoin:\n",
    "* introduced consensus mechanism with voluntary respect of the social contract\n",
    "* decentralized value-transfer system, shared across the world\n",
    "* a very specialised version of a secure, transaction-based state machine"
   ]
  },
  {
   "cell_type": "markdown",
   "id": "bc46605d-7ede-4ab3-a3cb-20d531eedf09",
   "metadata": {
    "editable": true,
    "slideshow": {
     "slide_type": "fragment"
    },
    "tags": []
   },
   "source": [
    "### Ethereum:\n",
    "* Platform to build **ANY** transaction-based state machine\n",
    "* Provide developers with a system to build on top of a new system\n",
    "* a trustful object messaging compute framework "
   ]
  },
  {
   "cell_type": "markdown",
   "id": "8fe33a29-a7da-431f-9a0e-75ac5fea39dd",
   "metadata": {
    "editable": true,
    "slideshow": {
     "slide_type": "slide"
    },
    "tags": []
   },
   "source": [
    "## 2. Blockchain\n",
    "* Ethereum: Transaction-based state machine\n",
    "* State may includes: Account balance, reputations, trust arrangements, external data, etc.\n",
    "    * Anything that can be represented by a computer is admissible\n",
    "* Transaction: Any **valid** arc/transition/changes between two states\n",
    "    *  invalid changes doesn't count"
   ]
  },
  {
   "cell_type": "markdown",
   "id": "500cc524-0fcd-4e62-948c-ae2a7e3360f1",
   "metadata": {
    "editable": true,
    "slideshow": {
     "slide_type": "fragment"
    },
    "tags": []
   },
   "source": [
    "* Transactions are collated into blocks\n",
    "* Blocks are chained together using a cryptographic hash\n",
    "* Blocks functions as a journal, recording:\n",
    "    * Previous block\n",
    "    * Transactions\n",
    "    * Identifier for the final state"
   ]
  },
  {
   "cell_type": "markdown",
   "id": "3c830d59-5634-4687-a32c-6b28d91cfd07",
   "metadata": {
    "editable": true,
    "slideshow": {
     "slide_type": "subslide"
    },
    "tags": []
   },
   "source": [
    "### 2.1 Value\n",
    "\n",
    "* In order to incentivise computation within the network, there needs to be an agreed method for transmitting value\n",
    "* Ethereum: **Ether - ETH - [Ð](https://en.wikipedia.org/wiki/Eth)**\n",
    "* The smallest subdenomination of Ether, and thus the one in which all integer values of the currency are counted, is the *Wei*\n",
    "```\n",
    "10^0 Wei  = Wei\n",
    "10^9 Wei  = GWei\n",
    "10^18 Wei = Ether\n",
    "```"
   ]
  },
  {
   "cell_type": "markdown",
   "id": "9907fc21-fcc8-4331-90d5-58db0ff4bbba",
   "metadata": {
    "editable": true,
    "slideshow": {
     "slide_type": "subslide"
    },
    "tags": []
   },
   "source": [
    "### 2.2. History\n",
    "\n",
    "* Decentralized -> Tree of blocks\n",
    "* Consensus: There must be an agreed upon scheme\n",
    "    * Disagreement -> causes **fork**\n",
    "* *Paris* fork, reaching consensus is using *Beacon Chain*\n",
    "    * Separation of *consensus* layer & *execution* layer"
   ]
  },
  {
   "cell_type": "markdown",
   "id": "8e667c10-c81e-4bb1-9317-361fdbcf7be4",
   "metadata": {
    "editable": true,
    "slideshow": {
     "slide_type": "fragment"
    },
    "tags": []
   },
   "source": [
    "* There are many versions of Ethereum, because of protocol update\n",
    "* There is an agreed conditions to switch: block numbers (pre-Paris), total difficulty (Paris), timestamp (post-Paris)\n",
    "* link to [Ethereum Protocol Release List](https://github.com/ethereum/execution-specs/blob/master/README.md#ethereum-protocol-releases)\n",
    "* Sometime people don't agree on protocol change\n",
    "    *  [EIP-155](https://github.com/ethereum/EIPs/blob/master/EIPS/eip-155.md) - introduce concept of chain ID\n",
    "    *  Main net chainID is 1"
   ]
  },
  {
   "cell_type": "markdown",
   "id": "a10e2e17-6f2f-40db-b370-f6e2f01b5079",
   "metadata": {
    "editable": true,
    "slideshow": {
     "slide_type": "slide"
    },
    "tags": []
   },
   "source": [
    "## 3. Conventions\n",
    "\n",
    "* Ethereum Yellow Paper specifies list of typographical conventions for the formal Notation\n",
    "* This summary will instead link to the class name and implementations in the [Ethereum Execution Spec](https://github.com/ethereum/execution-specs/tree/1adcc1bfe774798bcacc685aebc17bd9935078c3)"
   ]
  },
  {
   "cell_type": "markdown",
   "id": "5bcd04dd-f700-4815-9631-f9b0d038f8ad",
   "metadata": {
    "editable": true,
    "slideshow": {
     "slide_type": "slide"
    },
    "tags": []
   },
   "source": [
    "## 4. Blocks, State, and Transactions Details "
   ]
  },
  {
   "cell_type": "markdown",
   "id": "4d7f22e3-c1f5-4dc5-82cc-baee51fd175f",
   "metadata": {
    "editable": true,
    "slideshow": {
     "slide_type": "subslide"
    },
    "tags": []
   },
   "source": [
    "### 4.1 World State\n",
    "\n",
    "* Mapping between Address (160bit/20byte id) -> Account State (RLP encoded data structure)\n",
    "    * RLP: Resource Length Prefix Serialization ([details](https://ethereum.org/en/developers/docs/data-structures-and-encoding/rlp/), [code](https://github.com/ethereum/pyrlp)) \n",
    "    * NOTE: This mapping is **NOT** stored in blockchain\n",
    "* Implementation maintain it in a Modified Merkle Patricia Tree (Trie)\n",
    "    * MPT: Modified Merkle Patrice Trie ([details](https://ethereum.org/en/developers/docs/data-structures-and-encoding/patricia-merkle-trie/), [full code](https://github.com/ethereum/py-trie), [simple func](https://github.com/ethereum/execution-specs/blob/1adcc1bfe774798bcacc685aebc17bd9935078c3/src/ethereum/shanghai/trie.py#L397))\n",
    "    * root node hash depend on all underlying children\n",
    "    * can be used as secure identity for the whole system state - any changes will modify the hash\n",
    "    * easily retrieve/revert old states "
   ]
  },
  {
   "cell_type": "markdown",
   "id": "ed7ad96a-6d24-4c30-b850-de56f59d27a2",
   "metadata": {
    "editable": true,
    "slideshow": {
     "slide_type": "subslide"
    },
    "tags": []
   },
   "source": [
    "#### 4.1.1 Account state\n",
    "([link to specs](https://github.com/ethereum/execution-specs/blob/1adcc1bfe774798bcacc685aebc17bd9935078c3/src/ethereum/byzantium/fork_types.py#L48-L62))\n",
    "\n",
    "```python\n",
    "class Account:\n",
    "    \"\"\"\n",
    "    State associated with an address.\n",
    "    \"\"\"\n",
    "\n",
    "    nonce: Uint     # EOA: number of txn sent|Code: number of contract-creations made\n",
    "    balance: U256   # number of wei owned\n",
    "    code: bytes     # hash of EVM code\n",
    "\n",
    "def encode_account(raw_account_data: Account, storage_root: Bytes) -> Bytes:\n",
    "    return rlp.encode(\n",
    "        (\n",
    "            raw_account_data.nonce,            \n",
    "            raw_account_data.balance,          \n",
    "            storage_root,                      # 256bit/32bytes address of MPT root node\n",
    "            keccak256(raw_account_data.code),\n",
    "        )\n",
    "    )\n",
    "```"
   ]
  },
  {
   "cell_type": "markdown",
   "id": "fe17fb6c-f27d-4be7-94af-463188d6be6e",
   "metadata": {
    "editable": true,
    "slideshow": {
     "slide_type": "subslide"
    },
    "tags": []
   },
   "source": [
    "### 4.2 Transaction\n",
    "\n",
    "* single cryptographically-signed instruction by external actor\n",
    "    * Transaction types: 3 types (so far): Legacy(0), AccessList(1) & FeeMarket(2) - ([link to specs](https://github.com/ethereum/execution-specs/blob/1adcc1bfe774798bcacc685aebc17bd9935078c3/src/ethereum/shanghai/transactions.py#L25-L86))\n",
    "    * Transaction Subtypes: result in message calls, and result in contract creation"
   ]
  },
  {
   "cell_type": "markdown",
   "id": "2d1963e4-0424-41aa-90a6-9fff7193ae1b",
   "metadata": {
    "editable": true,
    "slideshow": {
     "slide_type": "subslide"
    },
    "tags": []
   },
   "source": [
    "([link to specs](https://github.com/ethereum/execution-specs/blob/1adcc1bfe774798bcacc685aebc17bd9935078c3/src/ethereum/shanghai/transactions.py#L25-L86))\n",
    "```python\n",
    "class EthTransaction: # pseudo code only - combination of 3 types\n",
    "    txn_type                           # transaction type (not in code, known by class name) \n",
    "    chain_id: U64                      # only in 1 & 2 - to prevent replay attack on other chain                     \n",
    "    nonce: U256                        # number of txn sent by sender (WARNING: a bit tricky)                        \n",
    "    \n",
    "    # gas related\n",
    "    gas: Uint                          # max amount of unit of gas to execute this txn\n",
    "    gas_price: Uint                    # only for type 0,1 - price per unit of gas (wei) - \n",
    "    max_fee_per_gas: Uint              # only for type 2 - max fee (priority+base) for a unit of gas\n",
    "    max_priority_fee_per_gas: Uint     # only for type 2 - max priority fee for unit a gas\n",
    "    \n",
    "    to: Union[Bytes0, Address]         # 160bit address for message recipient. 0 for contract creation\n",
    "    value: U256                        # number of wei to be transferred/endowment for new contract\n",
    "    init: Bytes                        # only for contract creation - EVM code for account initialization procedure\n",
    "    data: Bytes                        # input data for message call\n",
    "\n",
    "    access_list: Tuple[...]            # access entries to 'warm up' - Tuple of account address & list of storage keys\n",
    "    y_parity: U256                     # signature y parity\n",
    "    r: U256                            # signature of transaction\n",
    "    s: U256                            # signature of transaction\n",
    "```\n",
    "\n",
    "* Nonce trickiness ([link to article](https://github.com/ethereumbook/ethereumbook/blob/develop/06transactions.asciidoc#the-transaction-nonce))"
   ]
  },
  {
   "cell_type": "markdown",
   "id": "3c671f3a-d531-407e-9648-029d44eee8b0",
   "metadata": {
    "editable": true,
    "slideshow": {
     "slide_type": "subslide"
    },
    "tags": []
   },
   "source": [
    "### 4.3 Withdrawal\n",
    "\n",
    "* Describing a consensus' layer validator's withdrawal of some amount of its staked Ether\n",
    "* Created & validated in the consensus layer and then pushed to execution layer\n",
    "\n",
    "([link to specs](https://github.com/ethereum/execution-specs/blob/1adcc1bfe774798bcacc685aebc17bd9935078c3/src/ethereum/shanghai/blocks.py#L25C1-L34C1))\n",
    "```python\n",
    "class Withdrawal:\n",
    "    \"\"\"\n",
    "    Withdrawals that have been validated on the consensus layer.\n",
    "    \"\"\"\n",
    "    index: U64            # zero based incrementing withdrawal index - unique id\n",
    "    validator_index: U64  # index of validator in the consensus layer\n",
    "    address: Address      # recipient of the Ether of this withdrawal\n",
    "    amount: U256          # positive amount to be transfered\n",
    "\n",
    "```"
   ]
  },
  {
   "cell_type": "markdown",
   "id": "c597f0a4-655c-4d1e-aa4c-4db7d7da99e7",
   "metadata": {
    "editable": true,
    "slideshow": {
     "slide_type": "subslide"
    },
    "tags": []
   },
   "source": [
    "### 4.4 The Block\n",
    "\n",
    "Collection of relevant pieces of information regarding a block\n",
    "\n",
    "([link to specs](https://github.com/ethereum/execution-specs/blob/1adcc1bfe774798bcacc685aebc17bd9935078c3/src/ethereum/shanghai/blocks.py#L64-L72))\n",
    "\n",
    "```python\n",
    "\n",
    "class Block:\n",
    "    \"\"\"\n",
    "    A complete block.\n",
    "    \"\"\"\n",
    "    header: Header                                              # Block header\n",
    "    transactions: Tuple[Union[Bytes, LegacyTransaction], ...]   # list of transactions\n",
    "    ommers: Tuple[Header, ...]                                  # deprecated\n",
    "    withdrawals: Tuple[Withdrawal, ...]                         # validator's withdrawal - since Shanghai fork\n",
    "```\n",
    "\n",
    "  "
   ]
  },
  {
   "cell_type": "markdown",
   "id": "f3dc5af5-07be-419f-984b-482fe3cb48dd",
   "metadata": {
    "editable": true,
    "slideshow": {
     "slide_type": "subslide"
    },
    "tags": []
   },
   "source": [
    "([link to specs](https://github.com/ethereum/execution-specs/blob/1adcc1bfe774798bcacc685aebc17bd9935078c3/src/ethereum/shanghai/blocks.py#L38-L59))\n",
    "```python\n",
    "class Header:\n",
    "    \"\"\"\n",
    "    Header portion of a block on the chain.\n",
    "    \"\"\"\n",
    "\n",
    "    parent_hash: Hash32      # Keccak256 hash of the parent block's header\n",
    "    ommers_hash: Hash32      # deprecated - used in prof of work. Now constant of KEC(RLP())\n",
    "    coinbase: Address        # i.e. beneficiary - where priority fees is transferred\n",
    "    state_root: Root         # Keccak256 hash of the root node of state trie after all are applied\n",
    "    transactions_root: Root  # Keccak256 of the root node of the transactions trie\n",
    "    receipt_root: Root       # Keccak256 of the root node of the receipts trie\n",
    "    bloom: Bloom             # Bloom filter composed from log's indexable info (logger address & topics)\n",
    "    difficulty: Uint         # deprecated - used in proof of work. Now set to 0\n",
    "    number: Uint             # number of ancestor blocks (block heights?) - genesis is 0\n",
    "    gas_limit: Uint          # current limit of total gas expenditure per block\n",
    "    gas_used: Uint           # total gas used in transactions in this block\n",
    "    timestamp: U256          # timestamp of Unix time at this block's inception\n",
    "    extra_data: Bytes        # arbitrary data relevant to this block. must be <32 bytes\n",
    "    prev_randao: Bytes32     # latest RANDAO mix of the post beacon state of prev blocks\n",
    "    nonce: Bytes8            # deprecated - used in proof of work. Now set to 0\n",
    "    base_fee_per_gas: Uint   # amount of wei burned for each unit of gas\n",
    "    withdrawals_root: Root   # Keccak256 hash of the root node of withdrawal trie\n",
    "```\n",
    "Notes:\n",
    "* Bloom: ([S/O detail](https://ethereum.stackexchange.com/questions/3418/how-does-ethereum-make-use-of-bloom-filters), [code](https://github.com/ethereum/eth-bloom))\n",
    "* Prev RANDAO?: random output of the beacon chain's randomness oracle for the previous block. ([link to specs](https://github.com/ethereum/execution-specs/blob/1adcc1bfe774798bcacc685aebc17bd9935078c3/src/ethereum/shanghai/vm/instructions/block.py#L159-L188))"
   ]
  },
  {
   "cell_type": "markdown",
   "id": "8983d116-d65c-47d3-8272-9eb7743bf5f4",
   "metadata": {
    "editable": true,
    "slideshow": {
     "slide_type": "subslide"
    },
    "tags": []
   },
   "source": [
    "#### 4.4.1 Transaction Receipt\n",
    "\n",
    "* Information about a transaction concerning which it may be useful to form a zero-knowledge proof, or index and search\n",
    "* Receipt of each transaction containing certain information from its execution.\n",
    "* Put in index-keyed trie, root recorded in Header\n",
    "\n",
    "([link to specs](https://github.com/ethereum/execution-specs/blob/1adcc1bfe774798bcacc685aebc17bd9935078c3/src/ethereum/shanghai/blocks.py#L89-L97))\n",
    "```python\n",
    "class Receipt:\n",
    "    \"\"\"\n",
    "    Result of a transaction.\n",
    "    \"\"\"\n",
    "    # Receipt type that correspond to Transaction type - not serialized  \n",
    "    succeeded: bool             # status code? NOTE: different from yellow paper  \n",
    "    cumulative_gas_used: Uint   # Cumulative gas used in the block containing the transaction receipt after it happened\n",
    "    bloom: Bloom                # bloom filter for the logs (256 bytes)\n",
    "    logs: Tuple[Log, ...]       # logs created through execution of the transaction\n",
    "```\n",
    "* Bloom filter function sets 3 bits out of 2048, given arbitrary byte sequence\n",
    "    \n",
    "```python\n",
    "class Log:\n",
    "    \"\"\"\n",
    "    Data record produced during the execution of a transaction.\n",
    "    \"\"\"\n",
    "\n",
    "    address: Address            # logger's address\n",
    "    topics: Tuple[Hash32, ...]  # series of log's topic (can be empty)\n",
    "    data: bytes                 # data (not included in bloom filter)\n",
    "```"
   ]
  },
  {
   "cell_type": "markdown",
   "id": "f0f104e2-2e07-4782-b17d-27791c30eadc",
   "metadata": {
    "editable": true,
    "slideshow": {
     "slide_type": "subslide"
    },
    "tags": []
   },
   "source": [
    "#### 4.4.2 Holistic Validity\n",
    "\n",
    "* Block is valid if it satisfies several conditions: ([link to specs](https://github.com/ethereum/execution-specs/blob/1adcc1bfe774798bcacc685aebc17bd9935078c3/src/ethereum/shanghai/fork.py#L139-L197))\n",
    "\n",
    "```python\n",
    "    # initial validation check\n",
    "    parent_header = chain.blocks[-1].header\n",
    "    validate_header(block.header, parent_header)\n",
    "    if block.ommers != ():\n",
    "        raise InvalidBlock\n",
    "\n",
    "    # apply the block & save output\n",
    "    apply_body_output = apply_body(...)\n",
    "    \n",
    "    # validation after application\n",
    "    if apply_body_output.block_gas_used != block.header.gas_used:\n",
    "        raise InvalidBlock(\n",
    "            f\"{apply_body_output.block_gas_used} != {block.header.gas_used}\"\n",
    "        )\n",
    "    if apply_body_output.transactions_root != block.header.transactions_root:\n",
    "        raise InvalidBlock\n",
    "    if apply_body_output.state_root != block.header.state_root:\n",
    "        raise InvalidBlock\n",
    "    if apply_body_output.receipt_root != block.header.receipt_root:\n",
    "        raise InvalidBlock\n",
    "    if apply_body_output.block_logs_bloom != block.header.bloom:\n",
    "        raise InvalidBlock\n",
    "    if apply_body_output.withdrawals_root != block.header.withdrawals_root:\n",
    "        raise InvalidBlock\n",
    "```"
   ]
  },
  {
   "cell_type": "markdown",
   "id": "50741e03-d40b-44e9-bc34-3097268a382f",
   "metadata": {
    "editable": true,
    "slideshow": {
     "slide_type": "subslide"
    },
    "tags": []
   },
   "source": [
    "#### 4.4.3 Serialization\n",
    "\n",
    "* RLP Encoding of the blocks - it follows the sequence defined above\n",
    "\n",
    "#### 4.4.4 Block header validity\n",
    "\n",
    "* Couple rules to assert that block header is valid: ([link to specs](https://github.com/ethereum/execution-specs/blob/1adcc1bfe774798bcacc685aebc17bd9935078c3/src/ethereum/shanghai/fork.py#L262-L306))\n",
    "  \n",
    "* Note about gas base fee calculation rules: ([link to specs](https://github.com/ethereum/execution-specs/blob/1adcc1bfe774798bcacc685aebc17bd9935078c3/src/ethereum/shanghai/fork.py#L200-L259))\n",
    "    * The base fee is the amount of wei burned per unit of gas consumed while executing transactions within the block\n",
    "    * Value of base fee is function of difference between gas used & parent block's gas target\n",
    "    * Can go up & down based on whether parent's gas usage is more/less than gas target\n",
    "    * target is to follow gas target"
   ]
  },
  {
   "cell_type": "markdown",
   "id": "5428793a-d178-42cb-aa83-c7f6c6a44540",
   "metadata": {
    "editable": true,
    "slideshow": {
     "slide_type": "slide"
    },
    "tags": []
   },
   "source": [
    "## 5. Gas and Payment\n",
    "\n",
    "* Gas is the fuel of Ethereum. Gas is not ether—it’s a separate virtual currency with its own exchange rate against ether.\n",
    "* Used to control the amount of resources that a transaction can use, since it will be processed on thousands of computers around the world."
   ]
  },
  {
   "cell_type": "markdown",
   "id": "58756905-e394-4d13-87d6-0f2afea5c12d",
   "metadata": {
    "editable": true,
    "slideshow": {
     "slide_type": "fragment"
    },
    "tags": []
   },
   "source": [
    "* Every transaction has specific amount of gas associated with it: gasLimit\n",
    "* This will be charged from Sender's account balance at the beginning of transaction\n",
    "    * the amount that will be charged is gasLimit * effective gas price\n",
    "    * Transaction is invalid if sender's account balance can't cover that amount\n",
    "    * Unused gas is refunded at the same rate as purchase (effective gas price)\n",
    "    * If at any point the gas supply is reduced to zero we get an \"Out of Gas\" (OOG) exception;\n",
    "        * execution immediately halts and the transaction is abandoned.\n",
    "        * sender’s nonce being incremented\n",
    "        * ether balance going down to pay the block’s beneficiary\n",
    "* Gas is only used in the context of execution of transaction\n",
    "    * Account with trusted code can set a high gas limit & left alone"
   ]
  },
  {
   "cell_type": "markdown",
   "id": "1b0d9b2b-4a0e-4d9e-a1ca-976dc5bf6407",
   "metadata": {
    "editable": true,
    "slideshow": {
     "slide_type": "subslide"
    },
    "tags": []
   },
   "source": [
    "* effective gas price consist of base fee & priority fee\n",
    "* base fee: constant for all traensactions within a block\n",
    "    * the ether that is paid to base fee is burned\n",
    "    * adjust dynamically according to gas target (see section 4.4.4)\n",
    "      \n",
    "* priority fee set per transaction to incentivize validators to include that transactions\n",
    "    * delivered to beneficiary address\n",
    "    * Transactions type 2 can specify maxPriorityFeePerGas & maxFeePerGas\n",
    "    * Transactions type 0 & 1 only has gasPrice\n",
    "    * maxFeePerGas or gasPrice must be at least as high as base fee to be included in the block\n",
    "    * Transactor can set any priority fee, validators are free to ignore transactions\n",
    "    * Higher priority fee is greater value to validators, and higher chance to be included"
   ]
  },
  {
   "cell_type": "markdown",
   "id": "b1c79820-88e5-49dc-b537-3b749046ffa6",
   "metadata": {
    "editable": true,
    "slideshow": {
     "slide_type": "slide"
    },
    "tags": []
   },
   "source": [
    "## 6. Transaction Execution\n",
    "\n",
    "([link to specs](https://github.com/ethereum/execution-specs/blob/1adcc1bfe774798bcacc685aebc17bd9935078c3/src/ethereum/shanghai/fork.py#L566-L680))\n",
    "\n",
    "* any transaction must pass initial test of intrinsic validity"
   ]
  },
  {
   "cell_type": "markdown",
   "id": "548d64ac-e196-49df-9d95-b0da287058d3",
   "metadata": {
    "editable": true,
    "slideshow": {
     "slide_type": "subslide"
    },
    "tags": []
   },
   "source": [
    "### 6.1 Substate\n",
    "\n",
    "* Throughout transaction execution, we accrue certain information that is acted upon immediately following the transaction.\n",
    "* Substate values (NOTE: not found the code yet)\n",
    "    * Self-destruct set: a set of accounts that will be discarded following transaction completions\n",
    "    * Log Series: series of checkpoints to be easily tracked\n",
    "    * Touched account: empty one will be deleted at end of transactions\n",
    "    * Refund balance: increased when we reset contract storage (or other negative gas operation)\n",
    "    * Accessed account address\n",
    "    * Accessed storage keys"
   ]
  },
  {
   "cell_type": "markdown",
   "id": "74198d10-6c07-448a-9eae-ebd8d251dcf5",
   "metadata": {
    "editable": true,
    "slideshow": {
     "slide_type": "fragment"
    },
    "tags": []
   },
   "source": [
    "### 6.2 Execution\n",
    "\n",
    "([link to specs](https://github.com/ethereum/execution-specs/blob/1adcc1bfe774798bcacc685aebc17bd9935078c3/src/ethereum/shanghai/fork.py#L566-L680))\n",
    "\n",
    "* NOTE: the sum of the total transaction gas limit must be no greater than block's gas Limit\n"
   ]
  },
  {
   "cell_type": "markdown",
   "id": "a331cf05-5ca7-40c7-8933-de582c1a94d5",
   "metadata": {
    "editable": true,
    "slideshow": {
     "slide_type": "slide"
    },
    "tags": []
   },
   "source": [
    "## 7. Contract Creation\n",
    "\n",
    "([link to article](https://github.com/ethereumbook/ethereumbook/blob/develop/06transactions.asciidoc#special-transaction-contract-creation))\n",
    "* One special case is a transaction that creates a new contract on the blockchain\n",
    "    * by sending to special destination called zero address\n",
    "    * Can contain only data payload that contain compiled bytecode (CREATE?)\n",
    "    * Or use init function (using CREATE2?)\n",
    "    * Ether amount can be included in the value field to set the new contract up with a starting balance\n",
    "    * If it is sent to the contract creation address without a data payload (no contract), then it is burned\n",
    " \n",
    "\n",
    "TBD: not very clear yet\n",
    "\n",
    "* done via transaction -\n",
    "    * prepare_message call: ([link to specs](https://github.com/ethereum/execution-specs/blob/1adcc1bfe774798bcacc685aebc17bd9935078c3/src/ethereum/shanghai/utils/message.py#L27-L116))\n",
    "        * CREATE function: ([link to specs](https://github.com/ethereum/execution-specs/blob/1adcc1bfe774798bcacc685aebc17bd9935078c3/src/ethereum/shanghai/vm/instructions/system.py#L140-L179))\n",
    "        * CREATE2 function: ([link to specs](https://github.com/ethereum/execution-specs/blob/1adcc1bfe774798bcacc685aebc17bd9935078c3/src/ethereum/shanghai/vm/instructions/system.py#L182-L232))\n",
    " "
   ]
  },
  {
   "cell_type": "markdown",
   "id": "ccb22dbc-489e-4059-9447-a14574e3993d",
   "metadata": {
    "editable": true,
    "slideshow": {
     "slide_type": "subslide"
    },
    "tags": []
   },
   "source": [
    "### 7.1 Subtleties\n",
    "\n",
    "* While initialization code is executing, the newly created address exists but with no body code\n",
    "* Any message call cause no code to be executed\n",
    "* For normal STOP code, or empty return code - then state is left with zombie account - remaining balance will be locked into account forever"
   ]
  },
  {
   "cell_type": "markdown",
   "id": "a9b0b2fd-8444-4c3d-abf9-c5cb33703562",
   "metadata": {
    "editable": true,
    "slideshow": {
     "slide_type": "slide"
    },
    "tags": []
   },
   "source": [
    "## 8. Message Call\n",
    "\n",
    "TBD: not very clear yet - is it 'function call' ?\n",
    "\n",
    "* In the case of executing a message call, several parameters are required:\n",
    "    * sender\n",
    "    * transaction originator\n",
    "    * the account whose code is to be executed (usually the same as recipient)\n",
    "    * available gas\n",
    "    * effective gas price\n",
    "    * value\n",
    "    * input data to the call\n",
    "    * the present depth of the message-call/contract creation stack\n",
    "    * permission to make modifications to the state\n",
    "    * (extra) output data - ignored by transactions, but can be initiated due to VM code execution\n",
    "* It can go to 'Precompiled' contracts (in address 1..9)\n",
    "---\n",
    "* Message class reference: ([link to specs](https://github.com/ethereum/execution-specs/blob/1adcc1bfe774798bcacc685aebc17bd9935078c3/src/ethereum/shanghai/vm/__init__.py#L54-L72))\n",
    "* Process message call: ([link to specs](https://github.com/ethereum/execution-specs/blob/1adcc1bfe774798bcacc685aebc17bd9935078c3/src/ethereum/shanghai/fork.py#L631-L642))"
   ]
  },
  {
   "cell_type": "markdown",
   "id": "d3475c36-ae6c-44b9-ad42-35d199cdffef",
   "metadata": {
    "editable": true,
    "slideshow": {
     "slide_type": "slide"
    },
    "tags": []
   },
   "source": [
    "## 9. Execution Model\n",
    "\n",
    "* Specifies how the system state is altered given a series of bytecode instruction & tuple of environmental data -> EVM\n",
    "* EVM (Ethereum Virtual Machine) -> Quasi Turing-complete machine, quasi because limited by gas"
   ]
  },
  {
   "cell_type": "markdown",
   "id": "1dc72598-c8f3-445a-b583-f0a3c10f6652",
   "metadata": {
    "editable": true,
    "slideshow": {
     "slide_type": "subslide"
    },
    "tags": []
   },
   "source": [
    "### 9.1 Basics\n",
    "\n",
    "* Stack based architecture\n",
    "* Word size - and size of each stack items - is 256bit (32 bytes)\n",
    "    * chosen to facilitate Keccak-256 hash scheme & Elliptic-curve computations\n",
    "* Max stack size is 1024\n",
    "* Memory model is simple word-addressed byte array (you can access the array based on word address?)\n",
    "* Storage model is simple word-addressable word array\n",
    "    * Memory is volatile, storage is non-volatile\n",
    "    * maintained as part of system state\n",
    "* All locations in both storage & memory is initialized to 0\n",
    "* Code is not stored in memory/storage - but in a special location\n",
    "* EVM can have exceptions:\n",
    "    * stack underflows, invalid instruction, out-of-gas exception\n",
    "    * On exception, they will report to execution agent, which will deal with it separately"
   ]
  },
  {
   "cell_type": "markdown",
   "id": "a92c6042-3744-4b78-87d3-b50a6ff101f9",
   "metadata": {
    "editable": true,
    "slideshow": {
     "slide_type": "subslide"
    },
    "tags": []
   },
   "source": [
    "### 9.2 Fees Overview\n",
    "\n",
    "* Fees (denominated in gas) is charged under 3 circumstances:\n",
    "    * fee intrinsic to the computation of the operation\n",
    "    * form the payment for a subordinate message call or contact creation [link](https://github.com/ethereum/execution-specs/blob/1adcc1bfe774798bcacc685aebc17bd9935078c3/src/ethereum/shanghai/vm/gas.py#L185-L224)\n",
    "    * increase in the usage of memory\n",
    "* More memory usage -> more gas [link](https://github.com/ethereum/execution-specs/blob/1adcc1bfe774798bcacc685aebc17bd9935078c3/src/ethereum/shanghai/vm/gas.py#L146-L182)\n",
    "* Storage fees -> charged a lot to incentivize minimization of storage; refunded on release [link](https://github.com/ethereum/execution-specs/blob/1adcc1bfe774798bcacc685aebc17bd9935078c3/src/ethereum/shanghai/vm/instructions/storage.py#L61-L123)"
   ]
  },
  {
   "cell_type": "markdown",
   "id": "98cdd4bc-0753-4f14-8f4f-2cdb58ad5333",
   "metadata": {
    "editable": true,
    "slideshow": {
     "slide_type": "subslide"
    },
    "tags": []
   },
   "source": [
    "### 9.3 Execution Environment\n",
    "\n",
    "* There are several pieces of important information used in execution environment that the execution agent must provide:\n",
    "    * ([link to specs - maybe?](https://github.com/ethereum/execution-specs/blob/1adcc1bfe774798bcacc685aebc17bd9935078c3/src/ethereum/shanghai/vm/__init__.py#L54-L72))\n",
    "* There is a function which can compute the resultant state, remaining gas, substate, given these definitions\n",
    "    * ([link to specs](https://github.com/ethereum/execution-specs/blob/1adcc1bfe774798bcacc685aebc17bd9935078c3/src/ethereum/shanghai/fork.py#L631-L642))\n",
    "    * ([link to specs - maybe??](https://github.com/ethereum/execution-specs/blob/1adcc1bfe774798bcacc685aebc17bd9935078c3/src/ethereum/shanghai/vm/interpreter.py#L247-L313))"
   ]
  },
  {
   "cell_type": "markdown",
   "id": "8b3a2607-aef0-45dd-aaa6-efc4f19091f7",
   "metadata": {
    "editable": true,
    "slideshow": {
     "slide_type": "subslide"
    },
    "tags": []
   },
   "source": [
    "### 9.4 Execution overview\n",
    "\n",
    "* 9.4.1 [link to Machine state](https://github.com/ethereum/execution-specs/blob/1adcc1bfe774798bcacc685aebc17bd9935078c3/src/ethereum/shanghai/vm/interpreter.py#L266-L284)\n",
    "* 9.4.2 Exceptional Halting: conditions where instruction is stopped [Search result](https://github.com/search?q=repo%3Aethereum%2Fexecution-specs+path%3A%2F%5Esrc%5C%2Fethereum%5C%2Fshanghai%5C%2F%2F+%22raise+%22&type=code)\n",
    "* 9.4.3 [Jump Destination Validity](https://github.com/ethereum/execution-specs/blob/1adcc1bfe774798bcacc685aebc17bd9935078c3/src/ethereum/shanghai/vm/runtime.py#L21-L67)\n",
    "* 9.4.4 Normal Halting: When it is RETURN or REVERT, return the return code. () if STOP or SELFDESTRUCT, NULL otherwise"
   ]
  },
  {
   "cell_type": "markdown",
   "id": "ac3cfc0b-f14c-4d33-981d-7d53685c6fe7",
   "metadata": {
    "editable": true,
    "slideshow": {
     "slide_type": "subslide"
    },
    "tags": []
   },
   "source": [
    " ### 9.5 Execution Cycle\n",
    "\n",
    "* the main loop of code execution: ([link to specs](https://github.com/ethereum/execution-specs/blob/1adcc1bfe774798bcacc685aebc17bd9935078c3/src/ethereum/shanghai/vm/interpreter.py#L293-L301))\n",
    "\n",
    " "
   ]
  },
  {
   "cell_type": "markdown",
   "id": "7941ca91-e22e-47cc-a049-9d18ee251fef",
   "metadata": {
    "editable": true,
    "slideshow": {
     "slide_type": "slide"
    },
    "tags": []
   },
   "source": [
    "## 10. Transition to Proof of State\n",
    "\n",
    "* Paris hard fork changed the consensus from PoW to PoS\n",
    "* Use a 'terminal total difficulty' (to avoid race to get to block height requirement and claim the first PoS block)\n",
    "* 10.1 Post paris update, because beacon chain generate new slot every 12 seconds, Post-Paris update can be scheduled at specific timestamp."
   ]
  },
  {
   "cell_type": "markdown",
   "id": "33ead59b-74d5-4413-b1c3-f4644ce4eb51",
   "metadata": {
    "editable": true,
    "slideshow": {
     "slide_type": "slide"
    },
    "tags": []
   },
   "source": [
    "## 11. Blocktree to Blockchain\n",
    "\n",
    "* Prior to transition to PoS, the canonical blockchain was defined as block with the greatest total difficulty\n",
    "* After Paris: LMD Ghost (Latest Message Driven - Greedy Heaviest-observed Sub-Tree)\n",
    "* TBD: Not very clear on POS_FORKCHOICE_UPDATED"
   ]
  },
  {
   "cell_type": "markdown",
   "id": "85dcbc9e-7757-4e1e-a713-4049715a7d51",
   "metadata": {
    "editable": true,
    "slideshow": {
     "slide_type": "slide"
    },
    "tags": []
   },
   "source": [
    "## 12. Block Finalization\n",
    "\n",
    "The process of finalising a block involves three stages:\n",
    "* executing withdrawals\n",
    "* validating transactions\n",
    "* verify state"
   ]
  },
  {
   "cell_type": "markdown",
   "id": "3aa9f222-5e07-4ce5-aa75-ac14a36d3ed1",
   "metadata": {
    "editable": true,
    "slideshow": {
     "slide_type": "subslide"
    },
    "tags": []
   },
   "source": [
    "### 12.1 Executing Withdrawals\n",
    "\n",
    "* After processing the block's transactions, the withdrawals are executed.\n",
    "    * withdrawal is simply an increase of the recipient account's balance\n",
    "    * No other balances are decreased. Not a transfer but a creation of funds.\n",
    "    * Withdrawal can't fail and no gas cost\n",
    "    * [link](https://github.com/ethereum/execution-specs/blob/1adcc1bfe774798bcacc685aebc17bd9935078c3/src/ethereum/shanghai/state.py#L485-L496)\n"
   ]
  },
  {
   "cell_type": "markdown",
   "id": "7128ef55-c741-42ca-a945-13ebbc10761a",
   "metadata": {
    "editable": true,
    "slideshow": {
     "slide_type": "subslide"
    },
    "tags": []
   },
   "source": [
    " ### 12.2 Transaction Validation\n",
    "\n",
    " * gasUsed must correspond faithfully to the transaction listed\n",
    " * ([link to specs](https://github.com/ethereum/execution-specs/blob/1adcc1bfe774798bcacc685aebc17bd9935078c3/src/ethereum/shanghai/fork.py#L178-L180))"
   ]
  },
  {
   "cell_type": "markdown",
   "id": "ba79d25d-8db6-4062-a63e-04101245a185",
   "metadata": {
    "editable": true,
    "slideshow": {
     "slide_type": "subslide"
    },
    "tags": []
   },
   "source": [
    "### 12.3 State Validation\n",
    "\n",
    "* TBD: Not very clear\n",
    "* ([link to specs - maybe??](https://github.com/ethereum/execution-specs/blob/1adcc1bfe774798bcacc685aebc17bd9935078c3/src/ethereum/shanghai/fork.py#L182-L191))"
   ]
  },
  {
   "cell_type": "markdown",
   "id": "54600233-1782-4b23-8e6e-f68379b1774b",
   "metadata": {
    "editable": true,
    "slideshow": {
     "slide_type": "slide"
    },
    "tags": []
   },
   "source": [
    "## 13. Implementing contracts\n",
    "\n",
    "* 13.1 Data feeds - ([Link to Oracle page](https://ethereum.org/en/developers/docs/oracles/))\n",
    "* 13.2 Random Numbers - Use [BLOCKHASH](https://github.com/ethereum/execution-specs/blob/1adcc1bfe774798bcacc685aebc17bd9935078c3/src/ethereum/shanghai/vm/instructions/block.py#L22-L58) to use hashes of the previous 256 blocks as pseudo-random numbers"
   ]
  },
  {
   "cell_type": "markdown",
   "id": "5ed70941-4911-40d9-92d3-fd186ac24443",
   "metadata": {
    "editable": true,
    "slideshow": {
     "slide_type": "slide"
    },
    "tags": []
   },
   "source": [
    "## 14. Future Directions\n",
    "\n",
    "* Optimize state database:\n",
    "    * State database won't be forced to maintain all past state trie structures\n",
    "    * should maintain age, and discard node that are neither recent nor checkpoints\n",
    "    * Use checkpoints or set of nodes to reduce amount of computation\n",
    "* Blockchain consolidation\n",
    "    * Compressed archive of the trie at given point in time (one ever n-th block) could be maintained by peer network\n",
    "* Blockchain compressions:\n",
    "    * nodes in state trie that haven't sent/received trnsaction in some amount of blocks could be thrown out\n",
    "\n",
    "    "
   ]
  },
  {
   "cell_type": "markdown",
   "id": "35efdc61-3117-4e03-82c3-eb014066f9a2",
   "metadata": {
    "editable": true,
    "slideshow": {
     "slide_type": "slide"
    },
    "tags": []
   },
   "source": [
    "## Misc\n",
    "\n",
    "* RLP\n",
    "* MPT\n",
    "* Precompile contracts\n",
    "* Fee schedule\n",
    "* VM Specifications & Instruction sets"
   ]
  }
 ],
 "metadata": {
  "kernelspec": {
   "display_name": "Python 3 (ipykernel)",
   "language": "python",
   "name": "python3"
  },
  "language_info": {
   "codemirror_mode": {
    "name": "ipython",
    "version": 3
   },
   "file_extension": ".py",
   "mimetype": "text/x-python",
   "name": "python",
   "nbconvert_exporter": "python",
   "pygments_lexer": "ipython3",
   "version": "3.10.12"
  },
  "toc": {
   "base_numbering": 1
  }
 },
 "nbformat": 4,
 "nbformat_minor": 5
}
